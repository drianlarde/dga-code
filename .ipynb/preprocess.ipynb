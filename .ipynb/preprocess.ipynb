{
 "cells": [
  {
   "cell_type": "code",
   "execution_count": 12,
   "metadata": {},
   "outputs": [],
   "source": [
    "import random\n",
    "import itertools\n",
    "from tqdm import tqdm\n",
    "import pandas as pd"
   ]
  },
  {
   "cell_type": "code",
   "execution_count": 13,
   "metadata": {},
   "outputs": [],
   "source": [
    "courses = [\n",
    "    {\"code\": \"CSC 0102\", \"title\": \"Discrete Structures 1\", \"hours\": 3, \"year\": 1},\n",
    "    {\"code\": \"CSC 0211\", \"title\": \"Discrete Structures 2\", \"hours\": 3, \"year\": 1},\n",
    "    {\"code\": \"CSC 0212\", \"title\": \"Object Oriented Programming (Lec)\", \"hours\": 2, \"year\": 1},\n",
    "    {\"code\": \"CSC 0212.1\", \"title\": \"Object Oriented Programming (Lab)\", \"hours\": 1, \"year\": 1},\n",
    "    {\"code\": \"CSC 0213\", \"title\": \"Logic Design and Digital Computer Circuits (Lec)\", \"hours\": 2, \"year\": 1},\n",
    "    {\"code\": \"CSC 0213.1\", \"title\": \"Logic Design and Digital Computer Circuits (Lab)\", \"hours\": 1, \"year\": 1},\n",
    "    {\"code\": \"CSC 0221\", \"title\": \"Algorithm and Complexity\", \"hours\": 3, \"year\": 2},\n",
    "    {\"code\": \"CSC 0222\", \"title\": \"Architecture and Organization (Lec)\", \"hours\": 2, \"year\": 2},\n",
    "    {\"code\": \"CSC 0222.1\", \"title\": \"Architecture and Organization (Lab)\", \"hours\": 1, \"year\": 2},\n",
    "    {\"code\": \"CSC 0223\", \"title\": \"Human Computer Interaction\", \"hours\": 3, \"year\": 2},\n",
    "    {\"code\": \"CSC 0224\", \"title\": \"Operation Research\", \"hours\": 3, \"year\": 2},\n",
    "    {\"code\": \"CSC 0311\", \"title\": \"Automata Theory and Formal Languages\", \"hours\": 3, \"year\": 3},\n",
    "    {\"code\": \"CSC 0312\", \"title\": \"Programming Languages (Lec)\", \"hours\": 2, \"year\": 3},\n",
    "    {\"code\": \"CSC 0312.1\", \"title\": \"Programming Languages (Lab)\", \"hours\": 1, \"year\": 3},\n",
    "    {\"code\": \"CSC 0313\", \"title\": \"Software Engineering (Lec)\", \"hours\": 2, \"year\": 3},\n",
    "    {\"code\": \"CSC 0313.1\", \"title\": \"Software Engineering (Lab)\", \"hours\": 1, \"year\": 3},\n",
    "    {\"code\": \"CSC 0314\", \"title\": \"Operating System (Lec)\", \"hours\": 2, \"year\": 3},\n",
    "    {\"code\": \"CSC 0314.1\", \"title\": \"Operating System (Lab)\", \"hours\": 1, \"year\": 3},\n",
    "    {\"code\": \"CSC 0315\", \"title\": \"Intelligent System (Lec)\", \"hours\": 2, \"year\": 3},\n",
    "    {\"code\": \"CSC 0315.1\", \"title\": \"Intelligent System (Lab)\", \"hours\": 1, \"year\": 3},\n",
    "    {\"code\": \"CSC 0316\", \"title\": \"Information Assurance Security\", \"hours\": 3, \"year\": 3},\n",
    "    {\"code\": \"CSC 0321\", \"title\": \"Software Engineering 2 (Lec)\", \"hours\": 2, \"year\": 3},\n",
    "    {\"code\": \"CSC 0321.1\", \"title\": \"Software Engineering 2 (Lab)\", \"hours\": 1, \"year\": 3},\n",
    "    {\"code\": \"CSC 0322\", \"title\": \"Compiler Design (Lec)\", \"hours\": 2, \"year\": 3},\n",
    "    {\"code\": \"CSC 0322.1\", \"title\": \"Compiler Design (Lab)\", \"hours\": 1, \"year\": 3},\n",
    "    {\"code\": \"CSC 0323\", \"title\": \"Computational Science (Lec)\", \"hours\": 2, \"year\": 3},\n",
    "    {\"code\": \"CSC 0323.1\", \"title\": \"Computational Science (Lab)\", \"hours\": 1, \"year\": 3},\n",
    "    {\"code\": \"CSC 0324\", \"title\": \"CS Elective 1 (Lec)\", \"hours\": 2, \"year\": 3},\n",
    "    {\"code\": \"CSC 0324.1\", \"title\": \"CS Elective 1 (Lab)\", \"hours\": 1, \"year\": 3},\n",
    "    {\"code\": \"CSC 0325\", \"title\": \"Research Writing\", \"hours\": 3, \"year\": 3},\n",
    "    {\"code\": \"CSC 195.1\", \"title\": \"Practicum (240 Hrs)\", \"hours\": 2, \"year\": 5},\n",
    "    {\"code\": \"ICC 0101\", \"title\": \"Introduction to Computing (Lec)\", \"hours\": 2, \"year\": 1},\n",
    "    {\"code\": \"ICC 0101.1\", \"title\": \"Introduction to Computing (Lab)\", \"hours\": 1, \"year\": 1},\n",
    "    {\"code\": \"ICC 0102\", \"title\": \"Fundamentals of Programming (Lec)\", \"hours\": 2, \"year\": 1},\n",
    "    {\"code\": \"ICC 0102.1\", \"title\": \"Fundamentals of Programming (Lab)\", \"hours\": 1, \"year\": 1},\n",
    "    {\"code\": \"ICC 0103\", \"title\": \"Intermediate Programming (Lec)\", \"hours\": 2, \"year\": 1},\n",
    "    {\"code\": \"ICC 0103.1\", \"title\": \"Intermediate Programming (Lab)\", \"hours\": 1, \"year\": 1},\n",
    "    {\"code\": \"ICC 0104\", \"title\": \"Data Structures and Algorithms (Lec)\", \"hours\": 2, \"year\": 1},\n",
    "    {\"code\": \"ICC 0104.1\", \"title\": \"Data Structures and Algorithms (Lab)\", \"hours\": 1, \"year\": 1},\n",
    "    {\"code\": \"ICC 0105\", \"title\": \"Information Management (Lec)\", \"hours\": 2, \"year\": 1},\n",
    "    {\"code\": \"ICC 0105.1\", \"title\": \"Information Management (Lab)\", \"hours\": 1, \"year\": 1},\n",
    "    {\"code\": \"ICC 0106\", \"title\": \"Applications Development and Emerging Technologies (Lec)\", \"hours\": 2, \"year\": 1},\n",
    "    {\"code\": \"ICC 0106.1\", \"title\": \"Applications Development and Emerging Technologies (Lab)\", \"hours\": 1, \"year\": 1}\n",
    "]"
   ]
  },
  {
   "cell_type": "code",
   "execution_count": 14,
   "metadata": {},
   "outputs": [],
   "source": [
    "# Full-time faculty - set to exactly 4 courses\n",
    "faculty = [{\"id\": f\"FT{i}\", \"type\": \"Full-time\", \"max_classes\": 4} for i in range(1, 7)]\n",
    "# Part-time faculty - set to a max of 3 courses and max 12 units\n",
    "# The year level constraint is also applied\n",
    "faculty += [{\"id\": f\"PT{i}\", \"type\": \"Part-time\", \"max_classes\": 3, \"max_units\": 12, \"year_level\": random.choice([1, 2, 3, 4])} for i in range(1, 5)]\n",
    "\n",
    "classrooms = [\"Com Lab 1\", \"Com Lab 2\", \"Com Lab 3\", \"Com Lab 4\"] + [f\"GV 30{i}\" for i in range(1, 8)] + [f\"GCA 30{i}\" for i in range(1, 6)]"
   ]
  },
  {
   "cell_type": "code",
   "execution_count": 15,
   "metadata": {},
   "outputs": [],
   "source": [
    "# Define Days\n",
    "days_of_week = [\"Monday\", \"Tuesday\", \"Wednesday\", \"Thursday\", \"Friday\", \"Saturday\"]\n",
    "\n",
    "# Generating Timeslots with Days and AM/PM\n",
    "def generate_timeslots():\n",
    "    timeslots = []\n",
    "    for day in days_of_week:\n",
    "        for hour in range(7, 21):  # From 7 AM to 9 PM (21:00)\n",
    "            am_pm = \"AM\" if hour < 12 else \"PM\"\n",
    "            hour_12 = hour if hour <= 12 else hour - 12\n",
    "            timeslot = f\"{day} {hour_12}:00 - {hour_12+1}:00 {am_pm}\"\n",
    "            timeslots.append(timeslot)\n",
    "    return timeslots\n",
    "\n",
    "timeslots = generate_timeslots()"
   ]
  },
  {
   "cell_type": "code",
   "execution_count": 16,
   "metadata": {},
   "outputs": [],
   "source": [
    "# Function to initialize faculty hours and courses taught\n",
    "def initialize_faculty():\n",
    "    for fac in faculty:\n",
    "        fac[\"hours_taught\"] = 0\n",
    "        fac[\"courses_taught\"] = []\n",
    "\n",
    "initialize_faculty()"
   ]
  },
  {
   "cell_type": "code",
   "execution_count": 17,
   "metadata": {},
   "outputs": [],
   "source": [
    "# Initialize the schedule list before starting the assignment\n",
    "schedule = []"
   ]
  },
  {
   "cell_type": "code",
   "execution_count": 18,
   "metadata": {},
   "outputs": [],
   "source": [
    "# Function to check if a faculty member can teach a course\n",
    "def can_teach(faculty_member, course):\n",
    "    if faculty_member[\"type\"] == \"Part-time\":\n",
    "        return (faculty_member[\"hours_taught\"] + course[\"hours\"] <= faculty_member[\"max_units\"] and\n",
    "                len(faculty_member[\"courses_taught\"]) < faculty_member[\"max_classes\"] and\n",
    "                course[\"year\"] == faculty_member[\"year_level\"])\n",
    "    else: # Full-time\n",
    "        return len(faculty_member[\"courses_taught\"]) < faculty_member[\"max_classes\"]"
   ]
  },
  {
   "cell_type": "code",
   "execution_count": 19,
   "metadata": {},
   "outputs": [],
   "source": [
    "\n",
    "# Function to assign a course to a faculty member\n",
    "def assign_course(faculty_member, course):\n",
    "    faculty_member[\"hours_taught\"] += course[\"hours\"]\n",
    "    faculty_member[\"courses_taught\"].append(course[\"code\"])\n",
    "    print(f\"Assigned {course['code']} to {faculty_member['id']}. Total hours taught: {faculty_member['hours_taught']}.\")"
   ]
  },
  {
   "cell_type": "code",
   "execution_count": 20,
   "metadata": {},
   "outputs": [
    {
     "name": "stderr",
     "output_type": "stream",
     "text": [
      "Scheduling Courses: 100%|██████████| 43/43 [00:00<00:00, 21560.68it/s]\n"
     ]
    }
   ],
   "source": [
    "# Initialize the classroom usage tracker\n",
    "classroom_usage = {classroom: 0 for classroom in classrooms}\n",
    "\n",
    "# Modified function to assign a course to a faculty member\n",
    "def assign_course_to_faculty(faculty_member, course, room):\n",
    "    faculty_member[\"hours_taught\"] += course[\"hours\"]\n",
    "    faculty_member[\"courses_taught\"].append(course[\"code\"])\n",
    "    classroom_usage[room] += 1  # Update classroom usage\n",
    "\n",
    "for course in tqdm(courses, desc=\"Scheduling Courses\"):\n",
    "    for fac in faculty:\n",
    "        if can_teach(fac, course):\n",
    "            for timeslot in timeslots:\n",
    "                # Find the least used classroom\n",
    "                least_used_classroom = min(classroom_usage, key=classroom_usage.get)\n",
    "                schedule.append({\n",
    "                    \"course\": course[\"code\"],\n",
    "                    \"faculty\": fac[\"id\"],\n",
    "                    \"timeslot\": timeslot,\n",
    "                    \"classroom\": least_used_classroom\n",
    "                })\n",
    "                assign_course_to_faculty(fac, course, least_used_classroom)\n",
    "                # No break here, we continue to assign to other classrooms"
   ]
  },
  {
   "cell_type": "code",
   "execution_count": 21,
   "metadata": {},
   "outputs": [
    {
     "name": "stderr",
     "output_type": "stream",
     "text": [
      "Scheduling Courses: 100%|██████████| 43/43 [00:00<00:00, 43136.83it/s]\n"
     ]
    }
   ],
   "source": [
    "\n",
    "for course in tqdm(courses, desc=\"Scheduling Courses\"):\n",
    "    for fac in faculty:\n",
    "        if can_teach(fac, course):\n",
    "            for timeslot in timeslots:\n",
    "                for room in classrooms:\n",
    "                    schedule.append({\n",
    "                        \"course\": course[\"code\"],\n",
    "                        \"faculty\": fac[\"id\"],\n",
    "                        \"timeslot\": timeslot,\n",
    "                        \"classroom\": room\n",
    "                    })\n",
    "                    assign_course(fac, course)\n",
    "                    break  # Break to ensure one room per course per timeslot"
   ]
  },
  {
   "cell_type": "code",
   "execution_count": 22,
   "metadata": {},
   "outputs": [
    {
     "name": "stdout",
     "output_type": "stream",
     "text": [
      "Full schedule generated and saved.\n"
     ]
    }
   ],
   "source": [
    "# Convert the schedule to a DataFrame and save as CSV\n",
    "schedule_df = pd.DataFrame(schedule)\n",
    "schedule_df.to_csv(r\"C:\\Users\\Admin\\Downloads\\full_schedule.csv\", index=False)\n",
    "\n",
    "print(\"Full schedule generated and saved.\")"
   ]
  }
 ],
 "metadata": {
  "kernelspec": {
   "display_name": "Python 3",
   "language": "python",
   "name": "python3"
  },
  "language_info": {
   "codemirror_mode": {
    "name": "ipython",
    "version": 3
   },
   "file_extension": ".py",
   "mimetype": "text/x-python",
   "name": "python",
   "nbconvert_exporter": "python",
   "pygments_lexer": "ipython3",
   "version": "3.11.1"
  }
 },
 "nbformat": 4,
 "nbformat_minor": 2
}
